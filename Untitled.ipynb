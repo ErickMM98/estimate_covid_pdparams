{
 "cells": [
  {
   "cell_type": "code",
   "execution_count": 2,
   "metadata": {},
   "outputs": [],
   "source": [
    "import pandas as pd\n",
    "import matplotlib.pyplot as plt\n",
    "import numpy as np\n",
    "import matplotlib.pyplot as plt\n",
    "import PDEparams as pde"
   ]
  },
  {
   "cell_type": "code",
   "execution_count": 3,
   "metadata": {},
   "outputs": [],
   "source": [
    "df = pd.read_csv('../LotkaVolterraData.csv')\n",
    "\n",
    "data = pd.read_csv('CoV2019.csv')\n",
    "china = data[\"China\"][:]  # data[\"China\"][:27]\n",
    "days = data[\"Days\"][:]\n",
    "total = data[\"Total\"][:]\n",
    "deaths_china = data[\"Death China\"][:]\n",
    "other = data[\"Other\"]\n",
    "china_total = data[\"China\"]\n",
    "days_total = data[\"Days\"]\n",
    "deaths_china_total = data[\"Death China\"]\n",
    "deaths_outside_total = data[\"Death Outside\"]\n",
    "\n",
    "# Vamos a suponer que si estás en R si estás muerto.\n",
    "\n",
    "N = 56 * 10 ** 3  # estimate of people affected by lock down\n",
    "\n",
    "I = china.copy() / N\n",
    "R = deaths_china_total.copy() / N\n",
    "bool_array = (I <= 1)\n",
    "I = I[bool_array]\n",
    "R = R[bool_array]\n",
    "S = 1 - I - R\n",
    "\n",
    "init_I = I[0]\n",
    "init_R = R[0]\n",
    "init_S = S[0]"
   ]
  },
  {
   "cell_type": "code",
   "execution_count": 4,
   "metadata": {},
   "outputs": [
    {
     "data": {
      "image/png": "[encoded data removed]",
      "text/plain": [
       "<Figure size 432x288 with 1 Axes>"
      ]
     },
     "metadata": {
      "needs_background": "light"
     },
     "output_type": "display_data"
    }
   ],
   "source": [
    "fig, ax = plt.subplots()\n",
    "ax.plot(days[bool_array].index, S, color ='blue', marker = 's', alpha= 0.5,\n",
    "       label = 'Datos S')\n",
    "ax.plot(days[bool_array].index, I, color ='green',marker = 's',alpha= 0.5,\n",
    "       label = 'Datos I')\n",
    "ax.plot(days[bool_array].index, R, color ='red',marker = 's',alpha= 0.5,\n",
    "       label = 'Datos R')\n",
    "plt.show()"
   ]
  },
  {
   "cell_type": "code",
   "execution_count": 6,
   "metadata": {},
   "outputs": [
    {
     "name": "stdout",
     "output_type": "stream",
     "text": [
      "   $\\gamma$   $\\beta$\n",
      "0   0.00924  0.340121\n",
      "   $\\gamma$   $\\beta$\n",
      "0   0.00924  0.340121\n",
      "0.0010679596846489938\n"
     ]
    },
    {
     "data": {
      "application/vnd.jupyter.widget-view+json": {
       "model_id": "e5f0d589328f49009af9bd3d6405b719",
       "version_major": 2,
       "version_minor": 0
      },
      "text/plain": [
       "HBox(children=(HTML(value='parameters'), FloatProgress(value=0.0, max=2.0), HTML(value='')))"
      ]
     },
     "metadata": {},
     "output_type": "display_data"
    },
    {
     "data": {
      "application/vnd.jupyter.widget-view+json": {
       "model_id": "0dba37b84e2047db8ab8ad9199194284",
       "version_major": 2,
       "version_minor": 0
      },
      "text/plain": [
       "HBox(children=(HTML(value='values within parameters'), FloatProgress(value=0.0), HTML(value='')))"
      ]
     },
     "metadata": {},
     "output_type": "display_data"
    },
    {
     "name": "stdout",
     "output_type": "stream",
     "text": [
      "\n"
     ]
    },
    {
     "data": {
      "application/vnd.jupyter.widget-view+json": {
       "model_id": "9432bd74bbb248ff90171a52775e4622",
       "version_major": 2,
       "version_minor": 0
      },
      "text/plain": [
       "HBox(children=(HTML(value='values within parameters'), FloatProgress(value=0.0), HTML(value='')))"
      ]
     },
     "metadata": {},
     "output_type": "display_data"
    },
    {
     "name": "stdout",
     "output_type": "stream",
     "text": [
      "\n",
      "\n",
      "None\n"
     ]
    }
   ],
   "source": [
    "# -----------------------------------------------------------\n",
    "# ------------- Primer ajuste -------------------------------\n",
    "# -----------------------------------------------------------\n",
    "def LotkaVolterra(z, t, a, b):\n",
    "    '''The input z corresponds to the current state of the system, z = [x, y]. Since the input is in 1D, no\n",
    "    pre-processing is needed.\n",
    "\n",
    "    t is the current time.\n",
    "\n",
    "    a and b correspond to the unknown parameters.\n",
    "    '''\n",
    "\n",
    "    x, y = z\n",
    "\n",
    "    return [-b * x * y,\n",
    "            b * x * y - a*y]\n",
    "\n",
    "\n",
    "def initial_x():\n",
    "    return init_S\n",
    "\n",
    "def initial_y():\n",
    "    return init_I\n",
    "\n",
    "\n",
    "\n",
    "new_df = pd.DataFrame({'0': days[bool_array].index,\n",
    "                       '1': S,\n",
    "                       '2': I})\n",
    "#print(new_df)\n",
    "\n",
    "\n",
    "my_model = pde.PDEmodel(new_df, LotkaVolterra, [initial_x, initial_y], bounds=[(0.001, 0.02), (0.2,0.5)],\n",
    "                         param_names=[r'$\\gamma$', r'$\\beta$'], nvars=2, ndims=0, nreplicates=1)\n",
    "\n",
    "my_model.fit()\n",
    "print(my_model.best_params)\n",
    "print(my_model.best_error)\n",
    "print(my_model.likelihood_profiles())"
   ]
  },
  {
   "cell_type": "code",
   "execution_count": 7,
   "metadata": {},
   "outputs": [
    {
     "name": "stderr",
     "output_type": "stream",
     "text": [
      "*c* argument looks like a single numeric RGB or RGBA sequence, which should be avoided as value-mapping will have precedence in case its length matches with *x* & *y*.  Please use the *color* keyword-argument or provide a 2-D array with a single row if you intend to specify the same RGB or RGBA value for all points.\n"
     ]
    },
    {
     "data": {
      "image/png": "[encoded data removed]",
      "text/plain": [
       "<Figure size 432x288 with 1 Axes>"
      ]
     },
     "metadata": {
      "needs_background": "light"
     },
     "output_type": "display_data"
    },
    {
     "name": "stderr",
     "output_type": "stream",
     "text": [
      "*c* argument looks like a single numeric RGB or RGBA sequence, which should be avoided as value-mapping will have precedence in case its length matches with *x* & *y*.  Please use the *color* keyword-argument or provide a 2-D array with a single row if you intend to specify the same RGB or RGBA value for all points.\n"
     ]
    },
    {
     "data": {
      "image/png": "[encoded data removed]",
      "text/plain": [
       "<Figure size 432x288 with 1 Axes>"
      ]
     },
     "metadata": {
      "needs_background": "light"
     },
     "output_type": "display_data"
    }
   ],
   "source": [
    "my_model.plot_profiles()\n",
    "#plt.show()"
   ]
  }
 ],
 "metadata": {
  "kernelspec": {
   "display_name": "Python 3",
   "language": "python",
   "name": "python3"
  },
  "language_info": {
   "codemirror_mode": {
    "name": "ipython",
    "version": 3
   },
   "file_extension": ".py",
   "mimetype": "text/x-python",
   "name": "python",
   "nbconvert_exporter": "python",
   "pygments_lexer": "ipython3",
   "version": "3.8.5"
  }
 },
 "nbformat": 4,
 "nbformat_minor": 4
}
